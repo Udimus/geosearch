{
 "cells": [
  {
   "cell_type": "markdown",
   "id": "a4e18a3c-1b8c-4511-940b-aa8a15be7346",
   "metadata": {},
   "source": [
    "# Описание\n",
    "\n",
    "Для [Следопыта по Воробьёвым горам](https://sledopyt-moscow.ru/competitions/98/rules_98.html) хотим подготовить специальный тэг. Текущие тэги позволяют только по районам выбирать дома, а там территория более специфическая."
   ]
  },
  {
   "cell_type": "markdown",
   "id": "4fe3cd85-bbef-4341-b771-51c310994970",
   "metadata": {},
   "source": [
    "# Импорты"
   ]
  },
  {
   "cell_type": "code",
   "execution_count": 40,
   "id": "1107682d-e0a5-40d6-a90c-bc556d57d996",
   "metadata": {},
   "outputs": [],
   "source": [
    "import sys\n",
    "import re\n",
    "import os\n",
    "\n",
    "import pandas as pd\n",
    "\n",
    "sys.path.insert(1, '../service')\n",
    "\n",
    "from search_engine import load_addresses, load_tags, DATA_PATH, SEP"
   ]
  },
  {
   "cell_type": "markdown",
   "id": "32fdd2bf-762f-4d6f-af88-5d676de42c0a",
   "metadata": {},
   "source": [
    "# Данные"
   ]
  },
  {
   "cell_type": "code",
   "execution_count": 2,
   "id": "8f06df30-9bc3-441b-9a9f-ed89f7912f01",
   "metadata": {},
   "outputs": [],
   "source": [
    "addresses_df = load_addresses()\n",
    "_, ramenki_tags_df = load_tags([\"Раменки\"])\n",
    "_, gagarinski_tags_df = load_tags([\"Гагаринский\"])"
   ]
  },
  {
   "cell_type": "code",
   "execution_count": 3,
   "id": "d6d479e4-e883-475c-b3b8-cdf6ab335cef",
   "metadata": {},
   "outputs": [
    {
     "data": {
      "text/plain": [
       "((1822, 1), (561, 1))"
      ]
     },
     "execution_count": 3,
     "metadata": {},
     "output_type": "execute_result"
    }
   ],
   "source": [
    "ramenki_tags_df.shape, gagarinski_tags_df.shape"
   ]
  },
  {
   "cell_type": "code",
   "execution_count": 4,
   "id": "16216190-9df4-4cf2-9192-21dfc12f3b9d",
   "metadata": {},
   "outputs": [],
   "source": [
    "ramenki_df = addresses_df.merge(ramenki_tags_df)\n",
    "gagarinski_df = addresses_df.merge(gagarinski_tags_df)\n",
    "\n",
    "ramenki_df[\"house_num_processed\"] = ramenki_df[\"house_num\"].apply(lambda x: int(re.findall(\"[0-9]+\", x)[0]))\n",
    "gagarinski_df[\"house_num_processed\"] = gagarinski_df[\"house_num\"].apply(lambda x: int(re.findall(\"[0-9]+\", x)[0]))"
   ]
  },
  {
   "cell_type": "markdown",
   "id": "ec1d65d1-76be-4519-9321-c051a13743ca",
   "metadata": {},
   "source": [
    "# Удаление лишнего"
   ]
  },
  {
   "cell_type": "markdown",
   "id": "a354745c-c4a4-4905-b892-6af4a915b929",
   "metadata": {},
   "source": [
    "## Раменки"
   ]
  },
  {
   "cell_type": "code",
   "execution_count": 5,
   "id": "1edf838f-e2e1-4e3f-9da8-56a3c2b0cc53",
   "metadata": {},
   "outputs": [
    {
     "data": {
      "text/plain": [
       "(1820, 13)"
      ]
     },
     "execution_count": 5,
     "metadata": {},
     "output_type": "execute_result"
    }
   ],
   "source": [
    "ramenki_df.shape"
   ]
  },
  {
   "cell_type": "code",
   "execution_count": 6,
   "id": "574dca68-4767-470a-934e-e479ff957e60",
   "metadata": {},
   "outputs": [
    {
     "data": {
      "text/plain": [
       "['1-й Сетуньский',\n",
       " '2-й Мосфильмовский',\n",
       " '2-й Сетуньский',\n",
       " '3-й Сетуньский',\n",
       " '4-й Сетуньский',\n",
       " 'Академика Хохлова',\n",
       " 'Василия Ланового',\n",
       " 'Вернадского',\n",
       " 'Винницкая',\n",
       " 'Воробьёвская',\n",
       " 'Воробьёвское',\n",
       " 'Генерала Дорохова',\n",
       " 'Джавахарлала Неру',\n",
       " 'Довженко',\n",
       " 'Дружбы',\n",
       " 'Косыгина',\n",
       " 'Ленинские Горы',\n",
       " 'Лобачевского',\n",
       " 'Ломоносовский',\n",
       " 'МЖД Киевское 5-й',\n",
       " 'Менделеевская',\n",
       " 'Мжд Киевское 3-й',\n",
       " 'Минская',\n",
       " 'Мичуринский',\n",
       " 'Мосфильмовская',\n",
       " 'Пудовкина',\n",
       " 'Пырьева',\n",
       " 'Раменки',\n",
       " 'Раменский',\n",
       " 'Светланова',\n",
       " 'Сергея Бондарчука',\n",
       " 'Столетова',\n",
       " 'Удальцова',\n",
       " 'Улофа Пальме',\n",
       " 'Университетский',\n",
       " 'Янковского']"
      ]
     },
     "execution_count": 6,
     "metadata": {},
     "output_type": "execute_result"
    }
   ],
   "source": [
    "sorted(ramenki_df[\"street_name\"].unique())"
   ]
  },
  {
   "cell_type": "code",
   "execution_count": 7,
   "id": "eb9982ab-ecae-413b-9fd0-b515b461de0b",
   "metadata": {},
   "outputs": [],
   "source": [
    "ramenki_mask = True"
   ]
  },
  {
   "cell_type": "markdown",
   "id": "b7e36dda-aa64-4eef-b8f9-34fb3957eb18",
   "metadata": {},
   "source": [
    "Воробьёвское шоссе -- всё чётное, выкидываем."
   ]
  },
  {
   "cell_type": "code",
   "execution_count": 8,
   "id": "b227906a-fda8-42e4-8fb7-95668a3ba7ab",
   "metadata": {},
   "outputs": [
    {
     "data": {
      "text/plain": [
       "array(['8', '4', '4А', '2', '6', '6А', '2Б', '2А'], dtype=object)"
      ]
     },
     "execution_count": 8,
     "metadata": {},
     "output_type": "execute_result"
    }
   ],
   "source": [
    "ramenki_df[ramenki_df[\"street_name\"] == \"Воробьёвское\"][\"house_num\"].unique()"
   ]
  },
  {
   "cell_type": "code",
   "execution_count": 9,
   "id": "dbfecf28-d645-43b5-9c88-b257a04dbeea",
   "metadata": {},
   "outputs": [
    {
     "name": "stdout",
     "output_type": "stream",
     "text": [
      "1786\n"
     ]
    }
   ],
   "source": [
    "ramenki_mask &= ramenki_df[\"street_name\"] != \"Воробьёвское\"\n",
    "print(ramenki_mask.sum())"
   ]
  },
  {
   "cell_type": "markdown",
   "id": "12b8e0c5-dd76-48b7-ad62-3f950710e9ff",
   "metadata": {},
   "source": [
    "Все улицы за Мосфильмовской -- выкидываем."
   ]
  },
  {
   "cell_type": "code",
   "execution_count": 10,
   "id": "9b103381-c418-4521-8d77-754bf8b79bf9",
   "metadata": {},
   "outputs": [],
   "source": [
    "block_list_1 = [\n",
    "    '1-й Сетуньский',\n",
    "    '2-й Мосфильмовский',\n",
    "    '2-й Сетуньский',\n",
    "    '3-й Сетуньский',\n",
    "    '4-й Сетуньский',\n",
    "    'Довженко',\n",
    "    'Пудовкина',\n",
    "    'Пырьева',\n",
    "    'Улофа Пальме',\n",
    "    'Минская',\n",
    "    'МЖД Киевское 5-й',\n",
    "    'Мжд Киевское 3-й',\n",
    "    'Генерала Дорохова',\n",
    "    'Янковского',\n",
    "    'Сергея Бондарчука',\n",
    "    'Василия Ланового',\n",
    "    'Винницкая',\n",
    "]"
   ]
  },
  {
   "cell_type": "code",
   "execution_count": 11,
   "id": "c66450ef-7a64-44b8-b1aa-29d291b0ea07",
   "metadata": {},
   "outputs": [
    {
     "name": "stdout",
     "output_type": "stream",
     "text": [
      "1275\n"
     ]
    }
   ],
   "source": [
    "ramenki_mask &= ~ramenki_df[\"street_name\"].isin(block_list_1)\n",
    "print(ramenki_mask.sum())"
   ]
  },
  {
   "cell_type": "markdown",
   "id": "c9f9de56-a558-4dc7-9adc-497628711980",
   "metadata": {},
   "source": [
    "Мосфильмовская -- остаётся только нечётная сторона до дома 51."
   ]
  },
  {
   "cell_type": "code",
   "execution_count": 12,
   "id": "70acf5f5-ff96-4987-a112-f803c269befc",
   "metadata": {},
   "outputs": [
    {
     "name": "stdout",
     "output_type": "stream",
     "text": [
      "1127\n"
     ]
    }
   ],
   "source": [
    "ramenki_mask &= ramenki_df.apply(\n",
    "    lambda x: (x[\"street_name\"] != 'Мосфильмовская') or ((x[\"house_num_processed\"] % 2 == 1) and (x[\"house_num_processed\"] < 53)),\n",
    "    axis=1,\n",
    ")\n",
    "print(ramenki_mask.sum())"
   ]
  },
  {
   "cell_type": "markdown",
   "id": "462d2ee2-d34e-4783-814a-f9420ba42c71",
   "metadata": {},
   "source": [
    "У Столетова только чётная сторона."
   ]
  },
  {
   "cell_type": "code",
   "execution_count": 13,
   "id": "7eba2dab-69e8-495b-807c-4abf6ad1dd65",
   "metadata": {},
   "outputs": [
    {
     "name": "stdout",
     "output_type": "stream",
     "text": [
      "1109\n"
     ]
    }
   ],
   "source": [
    "ramenki_mask &= ramenki_df.apply(\n",
    "    lambda x: (x[\"street_name\"] != 'Столетова') or (x[\"house_num_processed\"] % 2 == 0),\n",
    "    axis=1,\n",
    ")\n",
    "print(ramenki_mask.sum())"
   ]
  },
  {
   "cell_type": "markdown",
   "id": "11e5f65a-5ef3-466f-893f-88b9e223aa60",
   "metadata": {},
   "source": [
    "Мичуринский -- не больше 12 по чётной стороне и не больше 21 по нечётной. "
   ]
  },
  {
   "cell_type": "code",
   "execution_count": 14,
   "id": "56acd293-1031-4e44-8820-f287830d1f64",
   "metadata": {},
   "outputs": [
    {
     "name": "stdout",
     "output_type": "stream",
     "text": [
      "980\n"
     ]
    }
   ],
   "source": [
    "ramenki_mask &= ramenki_df.apply(\n",
    "    lambda x: (x[\"street_name\"] != 'Мичуринский')\n",
    "    or ((x[\"house_num_processed\"] % 2 == 0) and (x[\"house_num_processed\"] <= 12))\n",
    "    or ((x[\"house_num_processed\"] % 2 == 1) and (x[\"house_num_processed\"] <= 21)),\n",
    "    axis=1,\n",
    ")\n",
    "print(ramenki_mask.sum())"
   ]
  },
  {
   "cell_type": "markdown",
   "id": "c93527a7-c07c-486e-b668-246577ce20ba",
   "metadata": {},
   "source": [
    "Улицы к югу -- тоже выкидываем."
   ]
  },
  {
   "cell_type": "code",
   "execution_count": 15,
   "id": "51688b04-0214-49f7-9f12-00abbc0412d7",
   "metadata": {},
   "outputs": [],
   "source": [
    "block_list_2 = [\n",
    "    'Раменки',\n",
    "    'Раменский',\n",
    "    'Светланова',\n",
    "    'Лобачевского',\n",
    "    'Удальцова',\n",
    "]"
   ]
  },
  {
   "cell_type": "code",
   "execution_count": 16,
   "id": "616bab7e-9076-4c9e-a912-ccfe5f614a56",
   "metadata": {},
   "outputs": [
    {
     "name": "stdout",
     "output_type": "stream",
     "text": [
      "698\n"
     ]
    }
   ],
   "source": [
    "ramenki_mask &= ~ramenki_df[\"street_name\"].isin(block_list_2)\n",
    "print(ramenki_mask.sum())"
   ]
  },
  {
   "cell_type": "markdown",
   "id": "9c090b52-ed8f-4385-bbb6-c241133b24ae",
   "metadata": {},
   "source": [
    "С Вернадским не очень понятно, на всякий случай выкинем только 12 дом."
   ]
  },
  {
   "cell_type": "code",
   "execution_count": 17,
   "id": "ff6b5cf5-25c0-4834-8a4a-8b79c263f71d",
   "metadata": {},
   "outputs": [
    {
     "name": "stdout",
     "output_type": "stream",
     "text": [
      "677\n"
     ]
    }
   ],
   "source": [
    "ramenki_mask &= ramenki_df.apply(\n",
    "    lambda x: (x[\"street_name\"] != 'Вернадского')\n",
    "    or ((x[\"house_num_processed\"] % 2 == 0) and (x[\"house_num_processed\"] < 12)),\n",
    "    axis=1,\n",
    ")\n",
    "print(ramenki_mask.sum())"
   ]
  },
  {
   "cell_type": "code",
   "execution_count": 18,
   "id": "87724ea0-92c5-4870-ac0d-d6d2decebf0e",
   "metadata": {},
   "outputs": [
    {
     "data": {
      "text/plain": [
       "['Академика Хохлова',\n",
       " 'Вернадского',\n",
       " 'Воробьёвская',\n",
       " 'Джавахарлала Неру',\n",
       " 'Дружбы',\n",
       " 'Косыгина',\n",
       " 'Ленинские Горы',\n",
       " 'Ломоносовский',\n",
       " 'Менделеевская',\n",
       " 'Мичуринский',\n",
       " 'Мосфильмовская',\n",
       " 'Столетова',\n",
       " 'Университетский']"
      ]
     },
     "execution_count": 18,
     "metadata": {},
     "output_type": "execute_result"
    }
   ],
   "source": [
    "sorted(ramenki_df[ramenki_mask][\"street_name\"].unique())"
   ]
  },
  {
   "cell_type": "markdown",
   "id": "ed6cb436-0921-43eb-8004-ca2ff2fb26c2",
   "metadata": {},
   "source": [
    "Согласно [Википедии](https://ru.wikipedia.org/wiki/Раменки_(район_Москвы)) в Раменках есть улицы (кроме удалённых нами):"
   ]
  },
  {
   "cell_type": "markdown",
   "id": "bec36bb8-7cca-4f2f-a2a8-bbf4ab46bdc0",
   "metadata": {},
   "source": [
    "Воробьёвская набережная\n",
    "проспект Вернадского\n",
    "Косыгина проспект\n",
    "Ломоносовский проспект\n",
    "Мичуринский проспект\n",
    "Мосфильмовская улица\n",
    "Университетский проспект\n",
    "\n",
    "Прочие улицы:\n",
    "Академика Самарского\n",
    "Академика Хохлова\n",
    "Дружбы\n",
    "Колмогорова\n",
    "Лебедева\n",
    "Ленинские Горы\n",
    "Менделеевская\n",
    "Мичуринская аллея\n",
    "Столетова\n",
    "Шувалова\n",
    "\n",
    "Площади:\t\n",
    "Джавахарлала Неру\n",
    "Индиры Ганди\n",
    "Университетская"
   ]
  },
  {
   "cell_type": "markdown",
   "id": "5c4ae0a3-408b-43a5-ba3a-63a6e8cf5a10",
   "metadata": {},
   "source": [
    "## Гагаринский"
   ]
  },
  {
   "cell_type": "code",
   "execution_count": 19,
   "id": "ee34978c-5a11-4ad0-ab72-c75cedf816c2",
   "metadata": {},
   "outputs": [
    {
     "data": {
      "text/plain": [
       "(561, 13)"
      ]
     },
     "execution_count": 19,
     "metadata": {},
     "output_type": "execute_result"
    }
   ],
   "source": [
    "gagarinski_df.shape"
   ]
  },
  {
   "cell_type": "code",
   "execution_count": 20,
   "id": "7029eb57-9b6e-43dc-a428-7fd0a8cc11fa",
   "metadata": {},
   "outputs": [
    {
     "data": {
      "text/plain": [
       "['60-летия Октября',\n",
       " 'Академика Зелинского',\n",
       " 'Академика Несмеянова',\n",
       " 'Андреевская',\n",
       " 'Бардина',\n",
       " 'Вавилова',\n",
       " 'Вернадского',\n",
       " 'Губкина',\n",
       " 'Дмитрия Ульянова',\n",
       " 'Косыгина',\n",
       " 'Ленинский',\n",
       " 'Ломоносовский',\n",
       " 'Молодёжная',\n",
       " 'Панфёрова',\n",
       " 'Строителей',\n",
       " 'Университетский',\n",
       " 'Фотиевой']"
      ]
     },
     "execution_count": 20,
     "metadata": {},
     "output_type": "execute_result"
    }
   ],
   "source": [
    "sorted(gagarinski_df[\"street_name\"].unique())"
   ]
  },
  {
   "cell_type": "markdown",
   "id": "ec02847b-3ded-41bd-90d5-3ddc5641d866",
   "metadata": {},
   "source": [
    "Нам нужно отбросить всё, что восточнее Ленинского проспекта."
   ]
  },
  {
   "cell_type": "code",
   "execution_count": 21,
   "id": "59f2ab42-a645-4ef0-9e00-bdf91e632345",
   "metadata": {},
   "outputs": [],
   "source": [
    "gagarinski_mask = True"
   ]
  },
  {
   "cell_type": "markdown",
   "id": "1a614054-f9a0-45c1-8264-36533bf7265d",
   "metadata": {},
   "source": [
    "Ленинский проспект -- удалим нечётную сторону."
   ]
  },
  {
   "cell_type": "code",
   "execution_count": 22,
   "id": "53cfe8ec-86de-49af-ba18-fd123e29ec58",
   "metadata": {},
   "outputs": [
    {
     "name": "stdout",
     "output_type": "stream",
     "text": [
      "444\n"
     ]
    }
   ],
   "source": [
    "gagarinski_mask &= gagarinski_df.apply(\n",
    "    lambda x: (x[\"street_name\"] != 'Ленинский') or (x[\"house_num_processed\"] % 2 == 0),\n",
    "    axis=1,\n",
    ")\n",
    "print(gagarinski_mask.sum())"
   ]
  },
  {
   "cell_type": "markdown",
   "id": "b29c2397-c841-48eb-9152-7995124f4103",
   "metadata": {},
   "source": [
    "Часть улиц удаляем целиком."
   ]
  },
  {
   "cell_type": "code",
   "execution_count": 23,
   "id": "4f416683-7eb1-419f-8eb9-4e4c1b8db0b9",
   "metadata": {},
   "outputs": [],
   "source": [
    "block_list_3 = [\n",
    "    'Панфёрова',\n",
    "    'Вавилова',\n",
    "    'Дмитрия Ульянова',\n",
    "    'Губкина',\n",
    "    'Бардина',\n",
    "    'Академика Зелинского',\n",
    "    'Академика Несмеянова',\n",
    "    '60-летия Октября',\n",
    "]"
   ]
  },
  {
   "cell_type": "code",
   "execution_count": 24,
   "id": "ef7d2ce6-007f-4d3b-9f44-6c72b29691a7",
   "metadata": {},
   "outputs": [
    {
     "name": "stdout",
     "output_type": "stream",
     "text": [
      "285\n"
     ]
    }
   ],
   "source": [
    "gagarinski_mask &= ~gagarinski_df[\"street_name\"].isin(block_list_3)\n",
    "print(gagarinski_mask.sum())"
   ]
  },
  {
   "cell_type": "markdown",
   "id": "0d2d169c-eb92-4c69-9cd6-e50d3511e03b",
   "metadata": {},
   "source": [
    "Наконец, обрежем Ломоносовский -- минимум дома 10 и 11."
   ]
  },
  {
   "cell_type": "code",
   "execution_count": 25,
   "id": "b2a3e74f-8830-4d9c-b4cf-a86099a52437",
   "metadata": {},
   "outputs": [
    {
     "name": "stdout",
     "output_type": "stream",
     "text": [
      "249\n"
     ]
    }
   ],
   "source": [
    "gagarinski_mask &= gagarinski_df.apply(\n",
    "    lambda x: (x[\"street_name\"] != 'Ломоносовский') or (x[\"house_num_processed\"] >= 10),\n",
    "    axis=1,\n",
    ")\n",
    "print(gagarinski_mask.sum())"
   ]
  },
  {
   "cell_type": "code",
   "execution_count": 26,
   "id": "8325ee6b-fe9b-46bc-b886-40acc8705587",
   "metadata": {},
   "outputs": [
    {
     "data": {
      "text/plain": [
       "['Андреевская',\n",
       " 'Вернадского',\n",
       " 'Косыгина',\n",
       " 'Ленинский',\n",
       " 'Ломоносовский',\n",
       " 'Молодёжная',\n",
       " 'Строителей',\n",
       " 'Университетский',\n",
       " 'Фотиевой']"
      ]
     },
     "execution_count": 26,
     "metadata": {},
     "output_type": "execute_result"
    }
   ],
   "source": [
    "sorted(gagarinski_df[gagarinski_mask][\"street_name\"].unique())"
   ]
  },
  {
   "cell_type": "markdown",
   "id": "e52ced48-70be-45b5-a8f7-227364fb25d8",
   "metadata": {},
   "source": [
    "Согласно [Википедии](https://ru.wikipedia.org/wiki/Гагаринский_район_(Москва)) в пересечении этого района и территории игры есть улицы:"
   ]
  },
  {
   "cell_type": "markdown",
   "id": "6d0ebcff-2dbd-4108-9e37-823b65e0ee64",
   "metadata": {},
   "source": [
    "Андреевская набережная\n",
    "проспект Вернадского\n",
    "4-й Воробьёвский проезд\n",
    "Ездаков переулок\n",
    "Ленинский проспект\n",
    "Ломоносовский проспект\n",
    "Университетский проспект\n",
    "\n",
    "Прочие улицы:\t\n",
    "Академика Зельдовича\n",
    "Анучина\n",
    "Косыгина\n",
    "Молодёжная\n",
    "Николая Коперника\n",
    "Сергея Капицы\n",
    "Строителей\n",
    "Фотиевой\n",
    "\n",
    "Площади:\t\n",
    "60-летия СССР (на границе)\n",
    "Академика Прохорова (на границе)\n",
    "Академика Тамма\n",
    "Гагарина (на границе)\n",
    "Джавахарлала Неру"
   ]
  },
  {
   "cell_type": "markdown",
   "id": "296fedc9-6b3d-433b-b9fe-3af0a47b1030",
   "metadata": {},
   "source": [
    "# Объединение"
   ]
  },
  {
   "cell_type": "code",
   "execution_count": 45,
   "id": "be741072-a059-449a-83af-56aeb912c37e",
   "metadata": {},
   "outputs": [],
   "source": [
    "sparrow_hills_tags_df = pd.concat(\n",
    "    [\n",
    "        gagarinski_df[gagarinski_mask][[\"oid\"]],\n",
    "        ramenki_df[ramenki_mask][[\"oid\"]],\n",
    "    ],\n",
    "    ignore_index=True,\n",
    ")"
   ]
  },
  {
   "cell_type": "code",
   "execution_count": 46,
   "id": "60491060-1bfd-4a4d-8b82-656fc5eff409",
   "metadata": {},
   "outputs": [],
   "source": [
    "sparrow_hills_tags_df[\"tag\"] = \"Следопыт98\""
   ]
  },
  {
   "cell_type": "code",
   "execution_count": 42,
   "id": "9f4f035b-21e0-48bf-a5c5-c15e1d8fccbe",
   "metadata": {},
   "outputs": [],
   "source": [
    "tags_path = os.path.join(DATA_PATH, \"77_ht.tsv\")"
   ]
  },
  {
   "cell_type": "code",
   "execution_count": 43,
   "id": "4d91d68b-16de-4ad9-9f2f-cc8af9d1f09d",
   "metadata": {},
   "outputs": [],
   "source": [
    "all_tags_df = pd.read_csv(tags_path, sep=SEP)"
   ]
  },
  {
   "cell_type": "code",
   "execution_count": 47,
   "id": "1300745b-7078-4695-b968-a2cedb8d806d",
   "metadata": {},
   "outputs": [],
   "source": [
    "pd.concat(\n",
    "    [\n",
    "        all_tags_df,\n",
    "        sparrow_hills_tags_df,\n",
    "    ],\n",
    "    ignore_index=True,\n",
    ").to_csv(tags_path, sep=SEP, index=False)"
   ]
  },
  {
   "cell_type": "code",
   "execution_count": null,
   "id": "8548bb0d-6202-4a13-bcb5-3507bdbf0b7b",
   "metadata": {},
   "outputs": [],
   "source": []
  },
  {
   "cell_type": "markdown",
   "id": "e1379696-2d9d-438a-a67f-a71242c9a564",
   "metadata": {},
   "source": [
    "# Список улиц"
   ]
  },
  {
   "cell_type": "code",
   "execution_count": 50,
   "id": "1e5f1846-10c9-492d-b6a7-4202c3690f95",
   "metadata": {},
   "outputs": [
    {
     "data": {
      "text/plain": [
       "['Академика Хохлова',\n",
       " 'Андреевская',\n",
       " 'Вернадского',\n",
       " 'Воробьёвская',\n",
       " 'Джавахарлала Неру',\n",
       " 'Дружбы',\n",
       " 'Косыгина',\n",
       " 'Ленинские Горы',\n",
       " 'Ленинский',\n",
       " 'Ломоносовский',\n",
       " 'Менделеевская',\n",
       " 'Мичуринский',\n",
       " 'Молодёжная',\n",
       " 'Мосфильмовская',\n",
       " 'Столетова',\n",
       " 'Строителей',\n",
       " 'Университетский',\n",
       " 'Фотиевой']"
      ]
     },
     "execution_count": 50,
     "metadata": {},
     "output_type": "execute_result"
    }
   ],
   "source": [
    "sorted(pd.concat(\n",
    "    [\n",
    "        gagarinski_df[gagarinski_mask][\"street_name\"],\n",
    "        ramenki_df[ramenki_mask][\"street_name\"],\n",
    "    ],\n",
    "    ignore_index=True,\n",
    ").unique())"
   ]
  },
  {
   "cell_type": "code",
   "execution_count": null,
   "id": "c9f37034-2b85-4ba2-88ac-f45b043b6a00",
   "metadata": {},
   "outputs": [],
   "source": [
    "Не-улицы:\n",
    "Андреевская набережная\n",
    "проспект Вернадского\n",
    "Воробьёвская набережная\n",
    "Ездаков переулок (нет домов)\n",
    "Косыгина проспект\n",
    "Ленинский проспект\n",
    "Ленинские Горы территория\n",
    "Ломоносовский проспект\n",
    "Мичуринская аллея (нет домов)\n",
    "Мичуринский проспект\n",
    "Университетский проспект\n",
    "Четвёртый Воробьёвский проезд (нет домов)\n",
    "\n",
    "Площади:\t\n",
    "60-летия СССР (на границе, нет домов)\n",
    "Академика Прохорова (на границе, нет домов)\n",
    "Академика Тамма (нет домов)\n",
    "Гагарина (на границе, нет домов)\n",
    "Джавахарлала Неру\n",
    "Индиры Ганди (нет домов)\n",
    "Университетская (нет домов)\n",
    "\n",
    "Улицы:\n",
    "Академика Зельдовича (только офис Яндекс, дом 1)\n",
    "Академика Самарского (нет домов)\n",
    "Академика Хохлова\n",
    "Анучина (нет домов)\n",
    "Дружбы \n",
    "Колмогорова (нет домов)\n",
    "Лебедева (нет домов)\n",
    "Менделеевская\n",
    "Молодёжная\n",
    "Мосфильмовская\n",
    "Николая Коперника (нет домов)\n",
    "Сергея Капицы (нет домов)\n",
    "Столетова\n",
    "Строителей\n",
    "Фотиевой\n",
    "Шувалова (нет домов)"
   ]
  }
 ],
 "metadata": {
  "kernelspec": {
   "display_name": "Python 3 (ipykernel)",
   "language": "python",
   "name": "python3"
  },
  "language_info": {
   "codemirror_mode": {
    "name": "ipython",
    "version": 3
   },
   "file_extension": ".py",
   "mimetype": "text/x-python",
   "name": "python",
   "nbconvert_exporter": "python",
   "pygments_lexer": "ipython3",
   "version": "3.13.3"
  }
 },
 "nbformat": 4,
 "nbformat_minor": 5
}
