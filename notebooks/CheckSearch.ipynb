{
 "cells": [
  {
   "cell_type": "markdown",
   "id": "fb22ad1f-c38f-4af7-99ad-7c2c089da78e",
   "metadata": {},
   "source": [
    "# Описание\n",
    "\n",
    "Проверим работу поиска."
   ]
  },
  {
   "cell_type": "markdown",
   "id": "6713160d-b499-4395-b0ab-7956a75f8860",
   "metadata": {},
   "source": [
    "# Импорты"
   ]
  },
  {
   "cell_type": "code",
   "execution_count": 1,
   "id": "2d768ffe-32b2-413a-85af-aa340a695ff5",
   "metadata": {},
   "outputs": [],
   "source": [
    "import sys\n",
    "\n",
    "sys.path.insert(1, '../service')\n",
    "\n",
    "from search_engine import HouseSearcher"
   ]
  },
  {
   "cell_type": "markdown",
   "id": "ffaf21b3-6fac-479e-9048-36db2d3a507e",
   "metadata": {},
   "source": [
    "# Задания"
   ]
  },
  {
   "cell_type": "markdown",
   "id": "a8e52c32-6055-40e1-9f69-683a0d13ae63",
   "metadata": {},
   "source": [
    "В районах Раменки и Дорогомилово поищем адреса по формулам -- https://sledopyt-moscow.ru/competitions/96/tasks_96.html"
   ]
  },
  {
   "cell_type": "code",
   "execution_count": 2,
   "id": "5de6c410-c564-4146-8aa4-646b98e5b0e6",
   "metadata": {},
   "outputs": [
    {
     "name": "stdout",
     "output_type": "stream",
     "text": [
      "CPU times: total: 5.06 s\n",
      "Wall time: 5.07 s\n"
     ]
    }
   ],
   "source": [
    "%%time\n",
    "searcher = HouseSearcher([\"Раменки\", \"Дорогомилово\"])"
   ]
  },
  {
   "cell_type": "code",
   "execution_count": 3,
   "id": "e11d16f9-b8b5-4852-a43b-cdb2d25183e0",
   "metadata": {},
   "outputs": [
    {
     "data": {
      "text/plain": [
       "['Раменки', 'Дорогомилово']"
      ]
     },
     "execution_count": 3,
     "metadata": {},
     "output_type": "execute_result"
    }
   ],
   "source": [
    "searcher.found_tags"
   ]
  },
  {
   "cell_type": "code",
   "execution_count": 4,
   "id": "01e5de64-4bde-4234-bec1-844dac2d3569",
   "metadata": {},
   "outputs": [
    {
     "data": {
      "text/plain": [
       "-423862175101582805"
      ]
     },
     "execution_count": 4,
     "metadata": {},
     "output_type": "execute_result"
    }
   ],
   "source": [
    "hash(searcher)"
   ]
  },
  {
   "cell_type": "code",
   "execution_count": 5,
   "id": "c15345d7-0ec5-4fba-9015-0f610d118247",
   "metadata": {},
   "outputs": [
    {
     "data": {
      "text/plain": [
       "['1-й Можайский туп',\n",
       " '1-й Сетуньский пр-д',\n",
       " '1-я Бородинская ул',\n",
       " '2-й Брянский пер',\n",
       " '2-й Мосфильмовский пер',\n",
       " '2-й Сетуньский пр-д',\n",
       " '2-я Бородинская ул',\n",
       " '3-й Сетуньский пр-д',\n",
       " '4-й Сетуньский пр-д',\n",
       " 'Академика Хохлова ул',\n",
       " 'Барклая ул',\n",
       " 'Бережковская наб',\n",
       " 'Большая Дорогомиловская ул',\n",
       " 'Братьев Фонченко ул',\n",
       " 'Брянская ул',\n",
       " 'Василия Ланового ул',\n",
       " 'Вернадского пр-кт',\n",
       " 'Винницкая ул',\n",
       " 'Воробьёвская наб.',\n",
       " 'Воробьёвское ш',\n",
       " 'Генерала Дорохова пр-кт',\n",
       " 'Генерала Ермолова ул',\n",
       " 'Дениса Давыдова ул',\n",
       " 'Джавахарлала Неру пл',\n",
       " 'Довженко ул',\n",
       " 'Дохтуровский пер',\n",
       " 'Дружбы ул',\n",
       " 'Дунаевского ул',\n",
       " 'Евразии пл',\n",
       " 'Киевская ул',\n",
       " 'Киевского Вокзала пл',\n",
       " 'Косыгина ул',\n",
       " 'Кульнева ул',\n",
       " 'Кутузовский пер',\n",
       " 'Кутузовский пр-кт',\n",
       " 'Кутузовский проезд',\n",
       " 'Ленинские Горы тер',\n",
       " 'Ленинские Горы ул',\n",
       " 'Лобачевского ул',\n",
       " 'Ломоносовский пр-кт',\n",
       " 'МЖД Киевское 5-й км',\n",
       " 'Малая Дорогомиловская ул',\n",
       " 'Менделеевская ул',\n",
       " 'Мжд Киевское 1-й км',\n",
       " 'Мжд Киевское 2-й км',\n",
       " 'Мжд Киевское 3-й км',\n",
       " 'Мжд Киевское 4-й км',\n",
       " 'Минская ул',\n",
       " 'Мичуринский пр-кт',\n",
       " 'Можайский Вал ул',\n",
       " 'Можайский пер',\n",
       " 'Мосфильмовская ул',\n",
       " 'Неверовского ул',\n",
       " 'Платовская ул',\n",
       " 'Победы пл',\n",
       " 'Поклонная ул',\n",
       " 'Потылиха ул',\n",
       " 'Пудовкина ул',\n",
       " 'Пырьева ул',\n",
       " 'Раевского ул',\n",
       " 'Раменки ул',\n",
       " 'Раменский б-р',\n",
       " 'Резервный проезд',\n",
       " 'Светланова ул',\n",
       " 'Сергея Бондарчука ул',\n",
       " 'Столетова ул',\n",
       " 'Студенческая ул',\n",
       " 'Тараса Шевченко наб',\n",
       " 'Удальцова ул',\n",
       " 'Украинский б-р',\n",
       " 'Улофа Пальме ул',\n",
       " 'Университетский пр-кт',\n",
       " 'Янковского ул']"
      ]
     },
     "execution_count": 5,
     "metadata": {},
     "output_type": "execute_result"
    }
   ],
   "source": [
    "searcher.get_all_streets()"
   ]
  },
  {
   "cell_type": "code",
   "execution_count": 6,
   "id": "77a36ae5-a287-4ea8-8bb1-eadb81ade460",
   "metadata": {},
   "outputs": [
    {
     "data": {
      "text/plain": [
       "['2-й Сетуньский пр-д, 13 д.',\n",
       " '3-й Сетуньский пр-д, 13 д.',\n",
       " 'Братьев Фонченко ул, 13 д.',\n",
       " 'Винницкая ул, 13 д.',\n",
       " 'Кутузовский пр-кт, 13 д.',\n",
       " 'Мжд Киевское 4-й км, 13 д.',\n",
       " 'Мичуринский пр-кт, 13 д.',\n",
       " 'Мосфильмовская ул, 13 д.',\n",
       " 'Неверовского ул, 13 д.',\n",
       " 'Поклонная ул, 13 д.',\n",
       " 'Пудовкина ул, 13 д.',\n",
       " 'Светланова ул, 13 д.',\n",
       " 'Столетова ул, 13 д.',\n",
       " 'Студенческая ул, 13 д.',\n",
       " 'Украинский б-р, 13 д.',\n",
       " 'Университетский пр-кт, 13 д.']"
      ]
     },
     "execution_count": 6,
     "metadata": {},
     "output_type": "execute_result"
    }
   ],
   "source": [
    "searcher.search(\"13\")"
   ]
  },
  {
   "cell_type": "markdown",
   "id": "a35162dc-1cd0-43e2-b0ed-4b211e07fad9",
   "metadata": {},
   "source": [
    "Дом X3+X5+1, корп. 1 [Студенческая]"
   ]
  },
  {
   "cell_type": "code",
   "execution_count": 6,
   "id": "2440cf9e-3ea3-4364-a811-e3f6756cc0a1",
   "metadata": {
    "scrolled": true
   },
   "outputs": [
    {
     "data": {
      "text/plain": [
       "['Кутузовский пр-кт, 30 д., 1 соор.',\n",
       " 'Кутузовский пр-кт, 30 д., 2 соор.',\n",
       " 'Малая Дорогомиловская ул, 47А д.',\n",
       " 'Мичуринский пр-кт, 44 д., 1 к.',\n",
       " 'Мичуринский пр-кт, 44 д., 2 к.',\n",
       " 'Мичуринский пр-кт, 44А д.',\n",
       " 'Студенческая ул, 28 д., 1 к.',\n",
       " 'Студенческая ул, 28 д., 2 к.',\n",
       " 'Студенческая ул, 28 д., 3 к.']"
      ]
     },
     "execution_count": 6,
     "metadata": {},
     "output_type": "execute_result"
    }
   ],
   "source": [
    "searcher.search(\"X3 + X5 + 1\", True)"
   ]
  },
  {
   "cell_type": "markdown",
   "id": "d22d4a6e-0d97-4567-86a7-e4f549f01b78",
   "metadata": {},
   "source": [
    "Дом X1+5 [Большая Дорогомиловская улица]"
   ]
  },
  {
   "cell_type": "code",
   "execution_count": 7,
   "id": "d4dbd3c5-8ff0-459f-8fee-37dfd50d9bc7",
   "metadata": {},
   "outputs": [
    {
     "data": {
      "text/plain": [
       "['2-й Мосфильмовский пер, 8 д.',\n",
       " 'Большая Дорогомиловская ул, 7 д.',\n",
       " 'Братьев Фонченко ул, 7 д.',\n",
       " 'Брянская ул, 7 д.',\n",
       " 'Вернадского пр-кт, 8 д.',\n",
       " 'Воробьёвское ш, 8 д.',\n",
       " 'Довженко ул, 10 д.',\n",
       " 'Дунаевского ул, 10 д.',\n",
       " 'Кутузовский пр-кт, 17 д.',\n",
       " 'Пырьева ул, 22 д.',\n",
       " 'Раменки ул, 23 д.',\n",
       " 'Студенческая ул, 24 д.']"
      ]
     },
     "execution_count": 7,
     "metadata": {},
     "output_type": "execute_result"
    }
   ],
   "source": [
    "searcher.search(\"X1 + 5\", False)"
   ]
  },
  {
   "cell_type": "markdown",
   "id": "e97fc892-0b62-4883-8160-67e4a874200d",
   "metadata": {},
   "source": [
    "Дом X5-X2-4 [Большая Дорогомиловская улица]"
   ]
  },
  {
   "cell_type": "code",
   "execution_count": 8,
   "id": "b3bd3806-a462-450d-bc7c-236501b105f0",
   "metadata": {},
   "outputs": [
    {
     "data": {
      "text/plain": [
       "['Большая Дорогомиловская ул, 6 д.',\n",
       " 'Братьев Фонченко ул, 8 д.',\n",
       " 'Генерала Дорохова пр-кт, 8 соор.',\n",
       " 'Евразии пл, 2 д.',\n",
       " 'Киевская ул, 5 д.',\n",
       " 'Мичуринский пр-кт, 4 д.',\n",
       " 'Неверовского ул, 8 д.']"
      ]
     },
     "execution_count": 8,
     "metadata": {},
     "output_type": "execute_result"
    }
   ],
   "source": [
    "searcher.search(\"X5-X2-4\", False)"
   ]
  },
  {
   "cell_type": "markdown",
   "id": "4effca98-3e3f-41c6-a27b-ddd89cd17fbb",
   "metadata": {},
   "source": [
    "Дом X2-X3-1 [2-й Сетуньский проезд]"
   ]
  },
  {
   "cell_type": "code",
   "execution_count": 9,
   "id": "e88006fd-f60e-45f5-8005-95209f428d79",
   "metadata": {},
   "outputs": [
    {
     "data": {
      "text/plain": [
       "['2-й Мосфильмовский пер, 3 д.',\n",
       " '2-й Сетуньский пр-д, 3 д.',\n",
       " 'Братьев Фонченко ул, 16 д.',\n",
       " 'Довженко ул, 12 д.',\n",
       " 'Дунаевского ул, 5 д.',\n",
       " 'Можайский Вал ул, 7 д.',\n",
       " 'Поклонная ул, 3 д.',\n",
       " 'Пырьева ул, 10 д.',\n",
       " 'Столетова ул, 3 д.']"
      ]
     },
     "execution_count": 9,
     "metadata": {},
     "output_type": "execute_result"
    }
   ],
   "source": [
    "searcher.search(\"X2-X3-1\", False)"
   ]
  },
  {
   "cell_type": "code",
   "execution_count": null,
   "id": "463dd0c3-257a-4772-b3fb-7e349fda58fb",
   "metadata": {},
   "outputs": [],
   "source": []
  },
  {
   "cell_type": "markdown",
   "id": "fde40b86-a250-4c59-9fa9-c06cfc8a6a11",
   "metadata": {},
   "source": [
    "Дом X1-X2 [Потылиха]"
   ]
  },
  {
   "cell_type": "code",
   "execution_count": 10,
   "id": "d0d0a474-537b-46dd-ae0a-8876046e7d50",
   "metadata": {},
   "outputs": [
    {
     "data": {
      "text/plain": [
       "['Киевская ул, 2 д.',\n",
       " 'Киевского Вокзала пл, 2 д.',\n",
       " 'Мжд Киевское 2-й км, 6 д.',\n",
       " 'Мичуринский пр-кт, 4 д.',\n",
       " 'Неверовского ул, 9 д.',\n",
       " 'Платовская ул, 4 д.',\n",
       " 'Победы пл, 1 д.',\n",
       " 'Потылиха ул, 1 д.',\n",
       " 'Резервный проезд, 12 д.',\n",
       " 'Украинский б-р, 9 д.']"
      ]
     },
     "execution_count": 10,
     "metadata": {},
     "output_type": "execute_result"
    }
   ],
   "source": [
    "searcher.search(\"X1 - X2\", False)"
   ]
  },
  {
   "cell_type": "markdown",
   "id": "2443bc76-dc29-4292-b0ee-920fb41c6c96",
   "metadata": {},
   "source": [
    "Дом X5+2 [Бережковская набережная]"
   ]
  },
  {
   "cell_type": "code",
   "execution_count": 11,
   "id": "19b8252c-deab-41cb-b539-6f009670e10c",
   "metadata": {},
   "outputs": [
    {
     "data": {
      "text/plain": [
       "['1-я Бородинская ул, 3 д.',\n",
       " '2-й Мосфильмовский пер, 18 д.',\n",
       " 'Бережковская наб, 10 д.',\n",
       " 'Воробьёвское ш, 4 д.',\n",
       " 'Довженко ул, 8 д.',\n",
       " 'Дружбы ул, 4 д.',\n",
       " 'Киевская ул, 21 д.',\n",
       " 'Кутузовский пр-кт, 11 д.',\n",
       " 'Мичуринский пр-кт, 20 д.',\n",
       " 'Мосфильмовская ул, 12 д.',\n",
       " 'Пудовкина ул, 5 д.',\n",
       " 'Пырьева ул, 8 д.',\n",
       " 'Светланова ул, 15 д.',\n",
       " 'Столетова ул, 8 д.',\n",
       " 'Улофа Пальме ул, 3 д.']"
      ]
     },
     "execution_count": 11,
     "metadata": {},
     "output_type": "execute_result"
    }
   ],
   "source": [
    "searcher.search(\"X5 + 2\", False)"
   ]
  },
  {
   "cell_type": "markdown",
   "id": "6438752e-bbf7-4b79-adbd-4a5691258cd5",
   "metadata": {},
   "source": [
    "Дом X6+4 [Братьев Фонченко]"
   ]
  },
  {
   "cell_type": "code",
   "execution_count": 12,
   "id": "1e08dad8-9904-4b2a-a8d0-8c13ac674ec8",
   "metadata": {},
   "outputs": [
    {
     "data": {
      "text/plain": [
       "['2-й Сетуньский пр-д, 15 д.',\n",
       " 'Бережковская наб, 16 д.',\n",
       " 'Большая Дорогомиловская ул, 5 д.',\n",
       " 'Братьев Фонченко ул, 10 д.',\n",
       " 'Дениса Давыдова ул, 5 д.',\n",
       " 'Дунаевского ул, 7 д.',\n",
       " 'Киевская ул, 16 д.',\n",
       " 'Кутузовский пр-кт, 20 д.',\n",
       " 'Ломоносовский пр-кт, 20 д.',\n",
       " 'Пырьева ул, 7 д.',\n",
       " 'Раменки ул, 16 д.',\n",
       " 'Тараса Шевченко наб, 5 д.']"
      ]
     },
     "execution_count": 12,
     "metadata": {},
     "output_type": "execute_result"
    }
   ],
   "source": [
    "searcher.search(\"X6 + 4\", False)"
   ]
  },
  {
   "cell_type": "code",
   "execution_count": null,
   "id": "14b1138b-2276-4c7b-b7df-51bd0479cab0",
   "metadata": {},
   "outputs": [],
   "source": []
  }
 ],
 "metadata": {
  "kernelspec": {
   "display_name": "Python 3 (ipykernel)",
   "language": "python",
   "name": "python3"
  },
  "language_info": {
   "codemirror_mode": {
    "name": "ipython",
    "version": 3
   },
   "file_extension": ".py",
   "mimetype": "text/x-python",
   "name": "python",
   "nbconvert_exporter": "python",
   "pygments_lexer": "ipython3",
   "version": "3.13.3"
  }
 },
 "nbformat": 4,
 "nbformat_minor": 5
}
